{
 "cells": [
  {
   "cell_type": "code",
   "execution_count": 3,
   "metadata": {},
   "outputs": [
    {
     "data": {
      "text/plain": [
       "['string', [1, 3, 'pylist'], 2.34, (1, 2)]"
      ]
     },
     "execution_count": 3,
     "metadata": {},
     "output_type": "execute_result"
    }
   ],
   "source": [
    "l=['string',[1,3,'pylist'],2.34,(1,2)]\n",
    "l"
   ]
  },
  {
   "cell_type": "code",
   "execution_count": 4,
   "metadata": {},
   "outputs": [
    {
     "data": {
      "text/plain": [
       "'\\n1. string  (str)\\n2. string (str)\\n3. List\\n4. Float\\n'"
      ]
     },
     "execution_count": 4,
     "metadata": {},
     "output_type": "execute_result"
    }
   ],
   "source": [
    "'''\n",
    "1. string  (str)\n",
    "2. string (str)\n",
    "3. List\n",
    "4. Float\n",
    "'''"
   ]
  },
  {
   "cell_type": "code",
   "execution_count": 5,
   "metadata": {},
   "outputs": [],
   "source": [
    "a=5/2       # 5 divided by 2  , ans- 2\n",
    "a=5%2       # 5 Modulus 2 , remainder when 5 is dvidied by 2 , ans - 1\n",
    "a=5//2      # Divide and the lower/floor element is returned , ans - 2\n",
    "a=5**2      # 5 to the power of 2  , ans- 25"
   ]
  },
  {
   "cell_type": "code",
   "execution_count": 10,
   "metadata": {},
   "outputs": [
    {
     "name": "stdout",
     "output_type": "stream",
     "text": [
      "1\n",
      "<class 'int'>\n",
      "1.3\n",
      "<class 'float'>\n",
      "teststring\n",
      "<class 'str'>\n",
      "['this', 'is', 'another', 'list']\n",
      "<class 'list'>\n"
     ]
    }
   ],
   "source": [
    "l=[1,1.3,'teststring',['this','is','another','list']]\n",
    "for i in l:\n",
    "    print(i)\n",
    "    print(type(i))"
   ]
  },
  {
   "cell_type": "code",
   "execution_count": 20,
   "metadata": {},
   "outputs": [
    {
     "name": "stdout",
     "output_type": "stream",
     "text": [
      "A is purely divisible by B, 8 times\n"
     ]
    }
   ],
   "source": [
    "A=40\n",
    "B=5\n",
    "cnt=0\n",
    "while(B<=A):\n",
    "    A=A-B\n",
    "    cnt+=1\n",
    "    \n",
    "if(A==0):\n",
    "    print(\"A is purely divisible by B, \"+str(cnt)+\" times\")\n",
    "else:\n",
    "    print(\"A is not purely divisible by B\")\n",
    "    "
   ]
  },
  {
   "cell_type": "code",
   "execution_count": 22,
   "metadata": {},
   "outputs": [
    {
     "name": "stdout",
     "output_type": "stream",
     "text": [
      "1 is Not divisible by 3\n",
      "2 is Not divisible by 3\n",
      "3 is divisible by 3\n",
      "4 is Not divisible by 3\n",
      "5 is Not divisible by 3\n",
      "6 is divisible by 3\n",
      "7 is Not divisible by 3\n",
      "8 is Not divisible by 3\n",
      "9 is divisible by 3\n",
      "10 is Not divisible by 3\n",
      "11 is Not divisible by 3\n",
      "12 is divisible by 3\n",
      "13 is Not divisible by 3\n",
      "14 is Not divisible by 3\n",
      "15 is divisible by 3\n",
      "16 is Not divisible by 3\n",
      "17 is Not divisible by 3\n",
      "18 is divisible by 3\n",
      "19 is Not divisible by 3\n",
      "20 is Not divisible by 3\n",
      "21 is divisible by 3\n",
      "22 is Not divisible by 3\n",
      "23 is Not divisible by 3\n",
      "24 is divisible by 3\n",
      "25 is Not divisible by 3\n"
     ]
    }
   ],
   "source": [
    "l=[1,2,3,4,5,6,7,8,9,10,11,12,13,14,15,16,17,18,19,20,21,22,23,24,25]\n",
    "for i in l:\n",
    "    if(i%3==0):\n",
    "        print(str(i)+\" is divisible by 3\")\n",
    "    else:\n",
    "        print(str(i)+\" is Not divisible by 3\")"
   ]
  },
  {
   "cell_type": "code",
   "execution_count": 24,
   "metadata": {},
   "outputs": [
    {
     "name": "stdout",
     "output_type": "stream",
     "text": [
      "[1, 'shashank', 5]\n"
     ]
    }
   ],
   "source": [
    "# Mutable datatypes are those whose data cannot be altered, object cannot be changed after being created\n",
    "#IMMUTABLE\n",
    "mystring=\"shashank\"\n",
    "# mystring[0]='k', This will show an error as the string class is immutable in python , string and tuple are immutable in python\n",
    "#while MUTABLE-\n",
    "l=[1,3,5]\n",
    "l[1]=\"shashank\"\n",
    "print(l)\n",
    "# list, dictionaries and sets are mutable in python and does the object changed ."
   ]
  },
  {
   "cell_type": "code",
   "execution_count": null,
   "metadata": {},
   "outputs": [],
   "source": []
  }
 ],
 "metadata": {
  "kernelspec": {
   "display_name": "Python 3",
   "language": "python",
   "name": "python3"
  },
  "language_info": {
   "codemirror_mode": {
    "name": "ipython",
    "version": 3
   },
   "file_extension": ".py",
   "mimetype": "text/x-python",
   "name": "python",
   "nbconvert_exporter": "python",
   "pygments_lexer": "ipython3",
   "version": "3.7.6"
  }
 },
 "nbformat": 4,
 "nbformat_minor": 4
}
